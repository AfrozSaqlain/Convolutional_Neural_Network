{
 "cells": [
  {
   "cell_type": "code",
   "execution_count": 1,
   "id": "63f54e8d",
   "metadata": {},
   "outputs": [],
   "source": [
    "import torch\n",
    "import torch.nn as nn\n",
    "import torch.nn.functional as F\n",
    "from torchvision import transforms\n",
    "from torch.utils.data import DataLoader, Dataset\n",
    "\n",
    "import sys\n",
    "import os\n",
    "import numpy as np\n",
    "import matplotlib.pyplot as plt\n",
    "import glob\n",
    "from pathlib import Path\n",
    "from PIL import Image\n",
    "import seaborn as sns\n",
    "\n",
    "from sklearn.model_selection import train_test_split\n",
    "from sklearn.metrics import confusion_matrix"
   ]
  },
  {
   "cell_type": "code",
   "execution_count": 2,
   "id": "bd7b4822",
   "metadata": {},
   "outputs": [],
   "source": [
    "%matplotlib inline"
   ]
  },
  {
   "cell_type": "code",
   "execution_count": 3,
   "id": "3eb24e4d",
   "metadata": {},
   "outputs": [],
   "source": [
    "os.environ[\"PYTORCH_CUDA_ALLOC_CONF\"] = \"expandable_segments:True\""
   ]
  },
  {
   "cell_type": "code",
   "execution_count": 4,
   "id": "8551b7a6",
   "metadata": {},
   "outputs": [],
   "source": [
    "RANDOM_SEED = 42\n",
    "BATCH_SIZE = 256\n",
    "EPOCHS = 20\n",
    "LR = 3e-2\n",
    "GAMMA = 0.7"
   ]
  },
  {
   "cell_type": "code",
   "execution_count": 5,
   "id": "e61e625e",
   "metadata": {},
   "outputs": [
    {
     "data": {
      "text/plain": [
       "'cuda'"
      ]
     },
     "execution_count": 5,
     "metadata": {},
     "output_type": "execute_result"
    }
   ],
   "source": [
    "device = 'cuda' if torch.cuda.is_available() else 'cpu'\n",
    "device"
   ]
  },
  {
   "cell_type": "code",
   "execution_count": 6,
   "id": "5eed97c0",
   "metadata": {},
   "outputs": [
    {
     "name": "stdout",
     "output_type": "stream",
     "text": [
      "Train Data: 900\n",
      "Test Data: 300\n",
      "Train Data: 720\n",
      "Validation Data: 180\n",
      "Test Data: 300\n"
     ]
    }
   ],
   "source": [
    "train_dir = './data_tmp/train'\n",
    "test_dir = './data_tmp/test'\n",
    "\n",
    "train_list = glob.glob(os.path.join(train_dir,'*.png'))\n",
    "test_list = glob.glob(os.path.join(test_dir, '*.png'))\n",
    "\n",
    "print(f\"Train Data: {len(train_list)}\")\n",
    "print(f\"Test Data: {len(test_list)}\")\n",
    "\n",
    "labels = [path.split('/')[-1].split('_')[0] for path in train_list]\n",
    "\n",
    "train_list, valid_list = train_test_split(train_list, \n",
    "                                          test_size=0.2,\n",
    "                                          stratify=labels,\n",
    "                                          shuffle=True,\n",
    "                                          random_state=RANDOM_SEED)\n",
    "\n",
    "print(f\"Train Data: {len(train_list)}\")\n",
    "print(f\"Validation Data: {len(valid_list)}\")\n",
    "print(f\"Test Data: {len(test_list)}\")\n",
    "\n",
    "train_transforms = transforms.Compose(\n",
    "    [\n",
    "        transforms.Resize((224, 224)),\n",
    "        transforms.ToTensor(),\n",
    "    ]\n",
    ")\n",
    "\n",
    "val_transforms = transforms.Compose(\n",
    "    [\n",
    "        transforms.Resize((224, 224)),\n",
    "        transforms.ToTensor(),\n",
    "    ]\n",
    ")\n",
    "\n",
    "test_transforms = transforms.Compose(\n",
    "    [\n",
    "        transforms.Resize((224, 224)),\n",
    "        transforms.ToTensor(),\n",
    "    ]\n",
    ")"
   ]
  },
  {
   "cell_type": "code",
   "execution_count": 7,
   "id": "2f726f11",
   "metadata": {},
   "outputs": [],
   "source": [
    "class GWDataset(Dataset):\n",
    "    def __init__(self, file_list, transform=None):\n",
    "        self.file_list = file_list\n",
    "        self.transform = transform\n",
    "\n",
    "    def __len__(self):\n",
    "        self.filelength = len(self.file_list)\n",
    "        return self.filelength\n",
    "\n",
    "    def __getitem__(self, idx):\n",
    "        img_path = self.file_list[idx]\n",
    "        img = Image.open(img_path)\n",
    "        \n",
    "        # Apply transformations if provided\n",
    "        img_transformed = self.transform(img)\n",
    "        img_transformed = img_transformed[:3, :, :]  # Ensure correct format for channels\n",
    "\n",
    "        # Determine the label based on filename\n",
    "        label_str = img_path.split(\"/\")[-1].split(\"_\")[0]\n",
    "        if label_str == \"eccentric\":\n",
    "            label = 1\n",
    "        elif label_str == \"unlensed\":\n",
    "            label = 2\n",
    "        else:\n",
    "            label = 0 \n",
    "\n",
    "        return img_transformed, label\n",
    "\n",
    "train_data = GWDataset(train_list, transform=train_transforms)\n",
    "valid_data = GWDataset(valid_list, transform=test_transforms)\n",
    "test_data = GWDataset(test_list, transform=test_transforms)\n",
    "\n",
    "train_loader = DataLoader(dataset = train_data, num_workers=os.cpu_count(), batch_size=BATCH_SIZE, shuffle=True )\n",
    "valid_loader = DataLoader(dataset = valid_data, num_workers=os.cpu_count(), batch_size=BATCH_SIZE, shuffle=True)\n",
    "test_loader = DataLoader(dataset = test_data, num_workers=os.cpu_count(), batch_size=BATCH_SIZE, shuffle=True)"
   ]
  },
  {
   "cell_type": "code",
   "execution_count": 8,
   "id": "fc56707a",
   "metadata": {},
   "outputs": [
    {
     "name": "stdout",
     "output_type": "stream",
     "text": [
      "Train Dataset Length: 720, Train Dataloader Length: 3\n",
      "Validation Dataset Length: 180, Validation Dataloader Length: 1\n"
     ]
    }
   ],
   "source": [
    "print(f\"Train Dataset Length: {len(train_data)}, Train Dataloader Length: {len(train_loader)}\")\n",
    "\n",
    "print(f\"Validation Dataset Length: {len(valid_data)}, Validation Dataloader Length: {len(valid_loader)}\")"
   ]
  },
  {
   "cell_type": "code",
   "execution_count": 9,
   "id": "eb38876f",
   "metadata": {},
   "outputs": [],
   "source": [
    "tmp = next(iter(train_loader))"
   ]
  },
  {
   "cell_type": "code",
   "execution_count": 10,
   "id": "2043dfe1",
   "metadata": {},
   "outputs": [
    {
     "data": {
      "text/plain": [
       "(np.float64(-0.5), np.float64(223.5), np.float64(223.5), np.float64(-0.5))"
      ]
     },
     "execution_count": 10,
     "metadata": {},
     "output_type": "execute_result"
    },
    {
     "data": {
      "image/png": "[encoded data removed]",
      "text/plain": [
       "<Figure size 1200x600 with 1 Axes>"
      ]
     },
     "metadata": {},
     "output_type": "display_data"
    }
   ],
   "source": [
    "plt.figure(figsize=(12, 6), facecolor=None)\n",
    "plt.imshow(tmp[0][10].numpy().transpose(1, 2, 0))\n",
    "plt.title(f\"Label: {tmp[1][10]}\")\n",
    "plt.axis(False)"
   ]
  },
  {
   "cell_type": "code",
   "execution_count": 11,
   "id": "7903e185",
   "metadata": {},
   "outputs": [],
   "source": [
    "class CNN_Model(nn.Module):\n",
    "    def __init__(self):\n",
    "        super(CNN_Model, self).__init__()\n",
    "        self.conv1 = nn.Conv2d(3, 32, kernel_size=3, stride=1, padding=1)\n",
    "        self.conv2 = nn.Conv2d(32, 64, kernel_size=3, stride=1, padding=1)\n",
    "        self.conv3 = nn.Conv2d(64, 128, kernel_size=3, stride=1, padding=1)\n",
    "        self.fc1 = nn.Linear(128 * 28 * 28, 256)\n",
    "        self.fc2 = nn.Linear(256, 3)\n",
    "\n",
    "    def forward(self, x):\n",
    "        x = F.relu(self.conv1(x))\n",
    "        x = F.max_pool2d(x, 2)\n",
    "        x = F.relu(self.conv2(x))\n",
    "        x = F.max_pool2d(x, 2)\n",
    "        x = F.relu(self.conv3(x))\n",
    "        x = F.max_pool2d(x, 2)\n",
    "        x = x.view(x.size(0), -1)\n",
    "        x = F.relu(self.fc1(x))\n",
    "        x = self.fc2(x)\n",
    "        return x"
   ]
  },
  {
   "cell_type": "code",
   "execution_count": 12,
   "id": "737a6eef",
   "metadata": {},
   "outputs": [],
   "source": [
    "model0 = CNN_Model().to(device)\n",
    "\n",
    "loss_fn = nn.CrossEntropyLoss()\n",
    "optimizer = torch.optim.Adam(model0.parameters(), lr=LR)\n",
    "scheduler = torch.optim.lr_scheduler.StepLR(optimizer, step_size=5, gamma=GAMMA)"
   ]
  },
  {
   "cell_type": "code",
   "execution_count": 13,
   "id": "a6844d13",
   "metadata": {},
   "outputs": [],
   "source": [
    "def train_model(model, train_loader, valid_loader, loss_fn, optimizer, scheduler, epochs=EPOCHS):\n",
    "    train_losses = []\n",
    "    val_losses = []\n",
    "\n",
    "    for epoch in range(epochs):\n",
    "        model.train()\n",
    "        running_loss = 0.0\n",
    "        correct = 0\n",
    "        total = 0\n",
    "        \n",
    "        for images, labels in train_loader:\n",
    "            images, labels = images.to(device), labels.to(device)\n",
    "            \n",
    "            optimizer.zero_grad()\n",
    "            outputs = model(images)\n",
    "            loss = loss_fn(outputs, labels)\n",
    "            loss.backward()\n",
    "            optimizer.step()\n",
    "            \n",
    "            running_loss += loss.item() * images.size(0)\n",
    "            _, predicted = torch.max(outputs.data, 1)\n",
    "            total += labels.size(0)\n",
    "            correct += (predicted == labels).sum().item()\n",
    "        \n",
    "        epoch_loss = running_loss / len(train_loader.dataset)\n",
    "        epoch_acc = correct / total\n",
    "        train_losses.append(epoch_loss)\n",
    "\n",
    "        print(f\"Epoch [{epoch+1}/{epochs}], Loss: {epoch_loss:.4f}, Accuracy: {epoch_acc:.4f}\")\n",
    "        \n",
    "        # Validation\n",
    "        model.eval()\n",
    "        with torch.no_grad():\n",
    "            valid_loss = 0.0\n",
    "            valid_correct = 0\n",
    "            valid_total = 0\n",
    "            \n",
    "            for val_images, val_labels in valid_loader:\n",
    "                val_images, val_labels = val_images.to(device), val_labels.to(device)\n",
    "                val_outputs = model(val_images)\n",
    "                v_loss = loss_fn(val_outputs, val_labels)\n",
    "                \n",
    "                valid_loss += v_loss.item() * val_images.size(0)\n",
    "                _, v_predicted = torch.max(val_outputs.data, 1)\n",
    "                valid_total += val_labels.size(0)\n",
    "                valid_correct += (v_predicted == val_labels).sum().item()\n",
    "            \n",
    "            epoch_valid_loss = valid_loss / len(valid_loader.dataset)\n",
    "            epoch_valid_acc = valid_correct / valid_total\n",
    "            val_losses.append(epoch_valid_loss)\n",
    "\n",
    "            print(f\"Validation Loss: {epoch_valid_loss:.4f}, Validation Accuracy: {epoch_valid_acc:.4f}\")\n",
    "        \n",
    "        scheduler.step()\n",
    "    \n",
    "    return train_losses, val_losses\n"
   ]
  },
  {
   "cell_type": "code",
   "execution_count": 14,
   "id": "f02265e3",
   "metadata": {},
   "outputs": [
    {
     "name": "stdout",
     "output_type": "stream",
     "text": [
      "Epoch [1/20], Loss: 2221.4086, Accuracy: 0.3472\n",
      "Validation Loss: 9.9348, Validation Accuracy: 0.3333\n",
      "Epoch [2/20], Loss: 283.9526, Accuracy: 0.3111\n",
      "Validation Loss: 4.1373, Validation Accuracy: 0.3333\n",
      "Epoch [3/20], Loss: 2.4309, Accuracy: 0.3333\n",
      "Validation Loss: 1.0997, Validation Accuracy: 0.3333\n",
      "Epoch [4/20], Loss: 1.0988, Accuracy: 0.3389\n",
      "Validation Loss: 1.0996, Validation Accuracy: 0.3333\n",
      "Epoch [5/20], Loss: 1.1002, Accuracy: 0.3333\n",
      "Validation Loss: 1.0934, Validation Accuracy: 0.3389\n",
      "Epoch [6/20], Loss: 1.1007, Accuracy: 0.3333\n",
      "Validation Loss: 1.1005, Validation Accuracy: 0.3333\n",
      "Epoch [7/20], Loss: 1.1005, Accuracy: 0.3333\n",
      "Validation Loss: 1.1002, Validation Accuracy: 0.3333\n",
      "Epoch [8/20], Loss: 1.0998, Accuracy: 0.3333\n",
      "Validation Loss: 1.0992, Validation Accuracy: 0.3333\n",
      "Epoch [9/20], Loss: 1.0993, Accuracy: 0.3278\n",
      "Validation Loss: 1.0985, Validation Accuracy: 0.3333\n",
      "Epoch [10/20], Loss: 1.0987, Accuracy: 0.3139\n",
      "Validation Loss: 1.0982, Validation Accuracy: 0.3333\n",
      "Epoch [11/20], Loss: 1.0986, Accuracy: 0.3611\n",
      "Validation Loss: 1.0978, Validation Accuracy: 0.3333\n",
      "Epoch [12/20], Loss: 1.0977, Accuracy: 0.3333\n",
      "Validation Loss: 1.0972, Validation Accuracy: 0.3333\n",
      "Epoch [13/20], Loss: 1.0973, Accuracy: 0.3333\n"
     ]
    },
    {
     "ename": "KeyboardInterrupt",
     "evalue": "",
     "output_type": "error",
     "traceback": [
      "\u001b[31m---------------------------------------------------------------------------\u001b[39m",
      "\u001b[31mKeyboardInterrupt\u001b[39m                         Traceback (most recent call last)",
      "\u001b[36mCell\u001b[39m\u001b[36m \u001b[39m\u001b[32mIn[14]\u001b[39m\u001b[32m, line 1\u001b[39m\n\u001b[32m----> \u001b[39m\u001b[32m1\u001b[39m train_loss, val_loss = \u001b[43mtrain_model\u001b[49m\u001b[43m(\u001b[49m\u001b[43mmodel0\u001b[49m\u001b[43m,\u001b[49m\u001b[43m \u001b[49m\u001b[43mtrain_loader\u001b[49m\u001b[43m,\u001b[49m\u001b[43m \u001b[49m\u001b[43mvalid_loader\u001b[49m\u001b[43m,\u001b[49m\u001b[43m \u001b[49m\u001b[43mloss_fn\u001b[49m\u001b[43m,\u001b[49m\u001b[43m \u001b[49m\u001b[43moptimizer\u001b[49m\u001b[43m,\u001b[49m\u001b[43m \u001b[49m\u001b[43mscheduler\u001b[49m\u001b[43m,\u001b[49m\u001b[43m \u001b[49m\u001b[43mepochs\u001b[49m\u001b[43m=\u001b[49m\u001b[43mEPOCHS\u001b[49m\u001b[43m)\u001b[49m\n",
      "\u001b[36mCell\u001b[39m\u001b[36m \u001b[39m\u001b[32mIn[13]\u001b[39m\u001b[32m, line 38\u001b[39m, in \u001b[36mtrain_model\u001b[39m\u001b[34m(model, train_loader, valid_loader, loss_fn, optimizer, scheduler, epochs)\u001b[39m\n\u001b[32m     35\u001b[39m valid_correct = \u001b[32m0\u001b[39m\n\u001b[32m     36\u001b[39m valid_total = \u001b[32m0\u001b[39m\n\u001b[32m---> \u001b[39m\u001b[32m38\u001b[39m \u001b[43m\u001b[49m\u001b[38;5;28;43;01mfor\u001b[39;49;00m\u001b[43m \u001b[49m\u001b[43mval_images\u001b[49m\u001b[43m,\u001b[49m\u001b[43m \u001b[49m\u001b[43mval_labels\u001b[49m\u001b[43m \u001b[49m\u001b[38;5;129;43;01min\u001b[39;49;00m\u001b[43m \u001b[49m\u001b[43mvalid_loader\u001b[49m\u001b[43m:\u001b[49m\n\u001b[32m     39\u001b[39m \u001b[43m    \u001b[49m\u001b[43mval_images\u001b[49m\u001b[43m,\u001b[49m\u001b[43m \u001b[49m\u001b[43mval_labels\u001b[49m\u001b[43m \u001b[49m\u001b[43m=\u001b[49m\u001b[43m \u001b[49m\u001b[43mval_images\u001b[49m\u001b[43m.\u001b[49m\u001b[43mto\u001b[49m\u001b[43m(\u001b[49m\u001b[43mdevice\u001b[49m\u001b[43m)\u001b[49m\u001b[43m,\u001b[49m\u001b[43m \u001b[49m\u001b[43mval_labels\u001b[49m\u001b[43m.\u001b[49m\u001b[43mto\u001b[49m\u001b[43m(\u001b[49m\u001b[43mdevice\u001b[49m\u001b[43m)\u001b[49m\n\u001b[32m     40\u001b[39m \u001b[43m    \u001b[49m\u001b[43mval_outputs\u001b[49m\u001b[43m \u001b[49m\u001b[43m=\u001b[49m\u001b[43m \u001b[49m\u001b[43mmodel\u001b[49m\u001b[43m(\u001b[49m\u001b[43mval_images\u001b[49m\u001b[43m)\u001b[49m\n",
      "\u001b[36mFile \u001b[39m\u001b[32m~/miniconda3/envs/nn_1/lib/python3.11/site-packages/torch/utils/data/dataloader.py:733\u001b[39m, in \u001b[36m_BaseDataLoaderIter.__next__\u001b[39m\u001b[34m(self)\u001b[39m\n\u001b[32m    730\u001b[39m \u001b[38;5;28;01mif\u001b[39;00m \u001b[38;5;28mself\u001b[39m._sampler_iter \u001b[38;5;129;01mis\u001b[39;00m \u001b[38;5;28;01mNone\u001b[39;00m:\n\u001b[32m    731\u001b[39m     \u001b[38;5;66;03m# TODO(https://github.com/pytorch/pytorch/issues/76750)\u001b[39;00m\n\u001b[32m    732\u001b[39m     \u001b[38;5;28mself\u001b[39m._reset()  \u001b[38;5;66;03m# type: ignore[call-arg]\u001b[39;00m\n\u001b[32m--> \u001b[39m\u001b[32m733\u001b[39m data = \u001b[38;5;28;43mself\u001b[39;49m\u001b[43m.\u001b[49m\u001b[43m_next_data\u001b[49m\u001b[43m(\u001b[49m\u001b[43m)\u001b[49m\n\u001b[32m    734\u001b[39m \u001b[38;5;28mself\u001b[39m._num_yielded += \u001b[32m1\u001b[39m\n\u001b[32m    735\u001b[39m \u001b[38;5;28;01mif\u001b[39;00m (\n\u001b[32m    736\u001b[39m     \u001b[38;5;28mself\u001b[39m._dataset_kind == _DatasetKind.Iterable\n\u001b[32m    737\u001b[39m     \u001b[38;5;129;01mand\u001b[39;00m \u001b[38;5;28mself\u001b[39m._IterableDataset_len_called \u001b[38;5;129;01mis\u001b[39;00m \u001b[38;5;129;01mnot\u001b[39;00m \u001b[38;5;28;01mNone\u001b[39;00m\n\u001b[32m    738\u001b[39m     \u001b[38;5;129;01mand\u001b[39;00m \u001b[38;5;28mself\u001b[39m._num_yielded > \u001b[38;5;28mself\u001b[39m._IterableDataset_len_called\n\u001b[32m    739\u001b[39m ):\n",
      "\u001b[36mFile \u001b[39m\u001b[32m~/miniconda3/envs/nn_1/lib/python3.11/site-packages/torch/utils/data/dataloader.py:1491\u001b[39m, in \u001b[36m_MultiProcessingDataLoaderIter._next_data\u001b[39m\u001b[34m(self)\u001b[39m\n\u001b[32m   1488\u001b[39m     \u001b[38;5;28;01mreturn\u001b[39;00m \u001b[38;5;28mself\u001b[39m._process_data(data, worker_id)\n\u001b[32m   1490\u001b[39m \u001b[38;5;28;01massert\u001b[39;00m \u001b[38;5;129;01mnot\u001b[39;00m \u001b[38;5;28mself\u001b[39m._shutdown \u001b[38;5;129;01mand\u001b[39;00m \u001b[38;5;28mself\u001b[39m._tasks_outstanding > \u001b[32m0\u001b[39m\n\u001b[32m-> \u001b[39m\u001b[32m1491\u001b[39m idx, data = \u001b[38;5;28;43mself\u001b[39;49m\u001b[43m.\u001b[49m\u001b[43m_get_data\u001b[49m\u001b[43m(\u001b[49m\u001b[43m)\u001b[49m\n\u001b[32m   1492\u001b[39m \u001b[38;5;28mself\u001b[39m._tasks_outstanding -= \u001b[32m1\u001b[39m\n\u001b[32m   1493\u001b[39m \u001b[38;5;28;01mif\u001b[39;00m \u001b[38;5;28mself\u001b[39m._dataset_kind == _DatasetKind.Iterable:\n\u001b[32m   1494\u001b[39m     \u001b[38;5;66;03m# Check for _IterableDatasetStopIteration\u001b[39;00m\n",
      "\u001b[36mFile \u001b[39m\u001b[32m~/miniconda3/envs/nn_1/lib/python3.11/site-packages/torch/utils/data/dataloader.py:1453\u001b[39m, in \u001b[36m_MultiProcessingDataLoaderIter._get_data\u001b[39m\u001b[34m(self)\u001b[39m\n\u001b[32m   1449\u001b[39m     \u001b[38;5;66;03m# In this case, `self._data_queue` is a `queue.Queue`,. But we don't\u001b[39;00m\n\u001b[32m   1450\u001b[39m     \u001b[38;5;66;03m# need to call `.task_done()` because we don't use `.join()`.\u001b[39;00m\n\u001b[32m   1451\u001b[39m \u001b[38;5;28;01melse\u001b[39;00m:\n\u001b[32m   1452\u001b[39m     \u001b[38;5;28;01mwhile\u001b[39;00m \u001b[38;5;28;01mTrue\u001b[39;00m:\n\u001b[32m-> \u001b[39m\u001b[32m1453\u001b[39m         success, data = \u001b[38;5;28;43mself\u001b[39;49m\u001b[43m.\u001b[49m\u001b[43m_try_get_data\u001b[49m\u001b[43m(\u001b[49m\u001b[43m)\u001b[49m\n\u001b[32m   1454\u001b[39m         \u001b[38;5;28;01mif\u001b[39;00m success:\n\u001b[32m   1455\u001b[39m             \u001b[38;5;28;01mreturn\u001b[39;00m data\n",
      "\u001b[36mFile \u001b[39m\u001b[32m~/miniconda3/envs/nn_1/lib/python3.11/site-packages/torch/utils/data/dataloader.py:1284\u001b[39m, in \u001b[36m_MultiProcessingDataLoaderIter._try_get_data\u001b[39m\u001b[34m(self, timeout)\u001b[39m\n\u001b[32m   1271\u001b[39m \u001b[38;5;28;01mdef\u001b[39;00m\u001b[38;5;250m \u001b[39m\u001b[34m_try_get_data\u001b[39m(\u001b[38;5;28mself\u001b[39m, timeout=_utils.MP_STATUS_CHECK_INTERVAL):\n\u001b[32m   1272\u001b[39m     \u001b[38;5;66;03m# Tries to fetch data from `self._data_queue` once for a given timeout.\u001b[39;00m\n\u001b[32m   1273\u001b[39m     \u001b[38;5;66;03m# This can also be used as inner loop of fetching without timeout, with\u001b[39;00m\n\u001b[32m   (...)\u001b[39m\u001b[32m   1281\u001b[39m     \u001b[38;5;66;03m# Returns a 2-tuple:\u001b[39;00m\n\u001b[32m   1282\u001b[39m     \u001b[38;5;66;03m#   (bool: whether successfully get data, any: data if successful else None)\u001b[39;00m\n\u001b[32m   1283\u001b[39m     \u001b[38;5;28;01mtry\u001b[39;00m:\n\u001b[32m-> \u001b[39m\u001b[32m1284\u001b[39m         data = \u001b[38;5;28;43mself\u001b[39;49m\u001b[43m.\u001b[49m\u001b[43m_data_queue\u001b[49m\u001b[43m.\u001b[49m\u001b[43mget\u001b[49m\u001b[43m(\u001b[49m\u001b[43mtimeout\u001b[49m\u001b[43m=\u001b[49m\u001b[43mtimeout\u001b[49m\u001b[43m)\u001b[49m\n\u001b[32m   1285\u001b[39m         \u001b[38;5;28;01mreturn\u001b[39;00m (\u001b[38;5;28;01mTrue\u001b[39;00m, data)\n\u001b[32m   1286\u001b[39m     \u001b[38;5;28;01mexcept\u001b[39;00m \u001b[38;5;167;01mException\u001b[39;00m \u001b[38;5;28;01mas\u001b[39;00m e:\n\u001b[32m   1287\u001b[39m         \u001b[38;5;66;03m# At timeout and error, we manually check whether any worker has\u001b[39;00m\n\u001b[32m   1288\u001b[39m         \u001b[38;5;66;03m# failed. Note that this is the only mechanism for Windows to detect\u001b[39;00m\n\u001b[32m   1289\u001b[39m         \u001b[38;5;66;03m# worker failures.\u001b[39;00m\n",
      "\u001b[36mFile \u001b[39m\u001b[32m~/miniconda3/envs/nn_1/lib/python3.11/multiprocessing/queues.py:113\u001b[39m, in \u001b[36mQueue.get\u001b[39m\u001b[34m(self, block, timeout)\u001b[39m\n\u001b[32m    111\u001b[39m \u001b[38;5;28;01mif\u001b[39;00m block:\n\u001b[32m    112\u001b[39m     timeout = deadline - time.monotonic()\n\u001b[32m--> \u001b[39m\u001b[32m113\u001b[39m     \u001b[38;5;28;01mif\u001b[39;00m \u001b[38;5;129;01mnot\u001b[39;00m \u001b[38;5;28;43mself\u001b[39;49m\u001b[43m.\u001b[49m\u001b[43m_poll\u001b[49m\u001b[43m(\u001b[49m\u001b[43mtimeout\u001b[49m\u001b[43m)\u001b[49m:\n\u001b[32m    114\u001b[39m         \u001b[38;5;28;01mraise\u001b[39;00m Empty\n\u001b[32m    115\u001b[39m \u001b[38;5;28;01melif\u001b[39;00m \u001b[38;5;129;01mnot\u001b[39;00m \u001b[38;5;28mself\u001b[39m._poll():\n",
      "\u001b[36mFile \u001b[39m\u001b[32m~/miniconda3/envs/nn_1/lib/python3.11/multiprocessing/connection.py:257\u001b[39m, in \u001b[36m_ConnectionBase.poll\u001b[39m\u001b[34m(self, timeout)\u001b[39m\n\u001b[32m    255\u001b[39m \u001b[38;5;28mself\u001b[39m._check_closed()\n\u001b[32m    256\u001b[39m \u001b[38;5;28mself\u001b[39m._check_readable()\n\u001b[32m--> \u001b[39m\u001b[32m257\u001b[39m \u001b[38;5;28;01mreturn\u001b[39;00m \u001b[38;5;28;43mself\u001b[39;49m\u001b[43m.\u001b[49m\u001b[43m_poll\u001b[49m\u001b[43m(\u001b[49m\u001b[43mtimeout\u001b[49m\u001b[43m)\u001b[49m\n",
      "\u001b[36mFile \u001b[39m\u001b[32m~/miniconda3/envs/nn_1/lib/python3.11/multiprocessing/connection.py:440\u001b[39m, in \u001b[36mConnection._poll\u001b[39m\u001b[34m(self, timeout)\u001b[39m\n\u001b[32m    439\u001b[39m \u001b[38;5;28;01mdef\u001b[39;00m\u001b[38;5;250m \u001b[39m\u001b[34m_poll\u001b[39m(\u001b[38;5;28mself\u001b[39m, timeout):\n\u001b[32m--> \u001b[39m\u001b[32m440\u001b[39m     r = \u001b[43mwait\u001b[49m\u001b[43m(\u001b[49m\u001b[43m[\u001b[49m\u001b[38;5;28;43mself\u001b[39;49m\u001b[43m]\u001b[49m\u001b[43m,\u001b[49m\u001b[43m \u001b[49m\u001b[43mtimeout\u001b[49m\u001b[43m)\u001b[49m\n\u001b[32m    441\u001b[39m     \u001b[38;5;28;01mreturn\u001b[39;00m \u001b[38;5;28mbool\u001b[39m(r)\n",
      "\u001b[36mFile \u001b[39m\u001b[32m~/miniconda3/envs/nn_1/lib/python3.11/multiprocessing/connection.py:948\u001b[39m, in \u001b[36mwait\u001b[39m\u001b[34m(object_list, timeout)\u001b[39m\n\u001b[32m    945\u001b[39m     deadline = time.monotonic() + timeout\n\u001b[32m    947\u001b[39m \u001b[38;5;28;01mwhile\u001b[39;00m \u001b[38;5;28;01mTrue\u001b[39;00m:\n\u001b[32m--> \u001b[39m\u001b[32m948\u001b[39m     ready = \u001b[43mselector\u001b[49m\u001b[43m.\u001b[49m\u001b[43mselect\u001b[49m\u001b[43m(\u001b[49m\u001b[43mtimeout\u001b[49m\u001b[43m)\u001b[49m\n\u001b[32m    949\u001b[39m     \u001b[38;5;28;01mif\u001b[39;00m ready:\n\u001b[32m    950\u001b[39m         \u001b[38;5;28;01mreturn\u001b[39;00m [key.fileobj \u001b[38;5;28;01mfor\u001b[39;00m (key, events) \u001b[38;5;129;01min\u001b[39;00m ready]\n",
      "\u001b[36mFile \u001b[39m\u001b[32m~/miniconda3/envs/nn_1/lib/python3.11/selectors.py:415\u001b[39m, in \u001b[36m_PollLikeSelector.select\u001b[39m\u001b[34m(self, timeout)\u001b[39m\n\u001b[32m    413\u001b[39m ready = []\n\u001b[32m    414\u001b[39m \u001b[38;5;28;01mtry\u001b[39;00m:\n\u001b[32m--> \u001b[39m\u001b[32m415\u001b[39m     fd_event_list = \u001b[38;5;28mself\u001b[39m._selector.poll(timeout)\n\u001b[32m    416\u001b[39m \u001b[38;5;28;01mexcept\u001b[39;00m \u001b[38;5;167;01mInterruptedError\u001b[39;00m:\n\u001b[32m    417\u001b[39m     \u001b[38;5;28;01mreturn\u001b[39;00m ready\n",
      "\u001b[31mKeyboardInterrupt\u001b[39m: "
     ]
    }
   ],
   "source": [
    "train_loss, val_loss = train_model(model0, train_loader, valid_loader, loss_fn, optimizer, scheduler, epochs=EPOCHS)"
   ]
  },
  {
   "cell_type": "code",
   "execution_count": null,
   "id": "1f1d2811",
   "metadata": {},
   "outputs": [],
   "source": [
    "def evaluate_model(model, test_loader, loss_fn, device, class_names=None):\n",
    "    model.eval()\n",
    "    all_preds = []\n",
    "    all_labels = []\n",
    "    valid_loss = 0.0\n",
    "    valid_correct = 0\n",
    "    valid_total = 0\n",
    "\n",
    "    with torch.no_grad():\n",
    "        for test_images, test_labels in test_loader:\n",
    "            test_images, test_labels = test_images.to(device), test_labels.to(device)\n",
    "            val_outputs = model(test_images)\n",
    "            v_loss = loss_fn(val_outputs, test_labels)\n",
    "\n",
    "            valid_loss += v_loss.item() * test_images.size(0)\n",
    "            _, v_predicted = torch.max(val_outputs, 1)\n",
    "\n",
    "            valid_total += test_labels.size(0)\n",
    "            valid_correct += (v_predicted == test_labels).sum().item()\n",
    "\n",
    "            all_preds.extend(v_predicted.cpu().numpy())\n",
    "            all_labels.extend(test_labels.cpu().numpy())\n",
    "\n",
    "    epoch_valid_loss = valid_loss / len(test_loader.dataset)\n",
    "    epoch_valid_acc = valid_correct / valid_total\n",
    "\n",
    "    print(f\"Validation Loss: {epoch_valid_loss:.4f}, Validation Accuracy: {epoch_valid_acc:.4f}\")\n",
    "\n",
    "    # Compute and plot confusion matrix\n",
    "    cm = confusion_matrix(all_labels, all_preds)\n",
    "    plt.figure(figsize=(8, 6))\n",
    "    sns.heatmap(cm, annot=True, fmt='d', cmap='Blues',\n",
    "                xticklabels=class_names if class_names else 'auto',\n",
    "                yticklabels=class_names if class_names else 'auto')\n",
    "    plt.xlabel('Predicted Labels')\n",
    "    plt.ylabel('True Labels')\n",
    "    plt.title('Confusion Matrix')\n",
    "    plt.show()\n",
    "    \n",
    "    return all_preds, all_labels"
   ]
  },
  {
   "cell_type": "code",
   "execution_count": null,
   "id": "a3465b20",
   "metadata": {},
   "outputs": [
    {
     "name": "stdout",
     "output_type": "stream",
     "text": [
      "Validation Loss: 4.6178, Validation Accuracy: 0.3433\n"
     ]
    },
    {
     "data": {
      "image/png": "[encoded data removed]",
      "text/plain": [
       "<Figure size 800x600 with 2 Axes>"
      ]
     },
     "metadata": {},
     "output_type": "display_data"
    },
    {
     "data": {
      "text/plain": [
       "([np.int64(0),\n",
       "  np.int64(0),\n",
       "  np.int64(0),\n",
       "  np.int64(0),\n",
       "  np.int64(0),\n",
       "  np.int64(0),\n",
       "  np.int64(0),\n",
       "  np.int64(0),\n",
       "  np.int64(0),\n",
       "  np.int64(0),\n",
       "  np.int64(0),\n",
       "  np.int64(0),\n",
       "  np.int64(0),\n",
       "  np.int64(0),\n",
       "  np.int64(0),\n",
       "  np.int64(0),\n",
       "  np.int64(0),\n",
       "  np.int64(0),\n",
       "  np.int64(0),\n",
       "  np.int64(0),\n",
       "  np.int64(0),\n",
       "  np.int64(0),\n",
       "  np.int64(0),\n",
       "  np.int64(0),\n",
       "  np.int64(0),\n",
       "  np.int64(0),\n",
       "  np.int64(0),\n",
       "  np.int64(0),\n",
       "  np.int64(0),\n",
       "  np.int64(0),\n",
       "  np.int64(0),\n",
       "  np.int64(0),\n",
       "  np.int64(0),\n",
       "  np.int64(0),\n",
       "  np.int64(0),\n",
       "  np.int64(0),\n",
       "  np.int64(0),\n",
       "  np.int64(0),\n",
       "  np.int64(0),\n",
       "  np.int64(0),\n",
       "  np.int64(0),\n",
       "  np.int64(0),\n",
       "  np.int64(0),\n",
       "  np.int64(0),\n",
       "  np.int64(0),\n",
       "  np.int64(0),\n",
       "  np.int64(0),\n",
       "  np.int64(0),\n",
       "  np.int64(0),\n",
       "  np.int64(0),\n",
       "  np.int64(0),\n",
       "  np.int64(0),\n",
       "  np.int64(0),\n",
       "  np.int64(0),\n",
       "  np.int64(0),\n",
       "  np.int64(0),\n",
       "  np.int64(0),\n",
       "  np.int64(0),\n",
       "  np.int64(0),\n",
       "  np.int64(0),\n",
       "  np.int64(0),\n",
       "  np.int64(0),\n",
       "  np.int64(0),\n",
       "  np.int64(0),\n",
       "  np.int64(0),\n",
       "  np.int64(0),\n",
       "  np.int64(0),\n",
       "  np.int64(0),\n",
       "  np.int64(0),\n",
       "  np.int64(0),\n",
       "  np.int64(0),\n",
       "  np.int64(0),\n",
       "  np.int64(0),\n",
       "  np.int64(0),\n",
       "  np.int64(0),\n",
       "  np.int64(0),\n",
       "  np.int64(0),\n",
       "  np.int64(0),\n",
       "  np.int64(0),\n",
       "  np.int64(0),\n",
       "  np.int64(0),\n",
       "  np.int64(0),\n",
       "  np.int64(0),\n",
       "  np.int64(0),\n",
       "  np.int64(0),\n",
       "  np.int64(0),\n",
       "  np.int64(0),\n",
       "  np.int64(0),\n",
       "  np.int64(0),\n",
       "  np.int64(0),\n",
       "  np.int64(0),\n",
       "  np.int64(0),\n",
       "  np.int64(0),\n",
       "  np.int64(0),\n",
       "  np.int64(0),\n",
       "  np.int64(0),\n",
       "  np.int64(0),\n",
       "  np.int64(0),\n",
       "  np.int64(0),\n",
       "  np.int64(0),\n",
       "  np.int64(0),\n",
       "  np.int64(0),\n",
       "  np.int64(0),\n",
       "  np.int64(0),\n",
       "  np.int64(0),\n",
       "  np.int64(0),\n",
       "  np.int64(0),\n",
       "  np.int64(0),\n",
       "  np.int64(0),\n",
       "  np.int64(0),\n",
       "  np.int64(0),\n",
       "  np.int64(0),\n",
       "  np.int64(0),\n",
       "  np.int64(0),\n",
       "  np.int64(0),\n",
       "  np.int64(0),\n",
       "  np.int64(0),\n",
       "  np.int64(0),\n",
       "  np.int64(0),\n",
       "  np.int64(0),\n",
       "  np.int64(0),\n",
       "  np.int64(0),\n",
       "  np.int64(0),\n",
       "  np.int64(0),\n",
       "  np.int64(0),\n",
       "  np.int64(0),\n",
       "  np.int64(0),\n",
       "  np.int64(0),\n",
       "  np.int64(0),\n",
       "  np.int64(0),\n",
       "  np.int64(0),\n",
       "  np.int64(0),\n",
       "  np.int64(0),\n",
       "  np.int64(0)],\n",
       " [np.int64(0),\n",
       "  np.int64(2),\n",
       "  np.int64(0),\n",
       "  np.int64(0),\n",
       "  np.int64(0),\n",
       "  np.int64(0),\n",
       "  np.int64(0),\n",
       "  np.int64(0),\n",
       "  np.int64(1),\n",
       "  np.int64(1),\n",
       "  np.int64(0),\n",
       "  np.int64(0),\n",
       "  np.int64(1),\n",
       "  np.int64(1),\n",
       "  np.int64(2),\n",
       "  np.int64(0),\n",
       "  np.int64(2),\n",
       "  np.int64(2),\n",
       "  np.int64(0),\n",
       "  np.int64(0),\n",
       "  np.int64(1),\n",
       "  np.int64(0),\n",
       "  np.int64(1),\n",
       "  np.int64(1),\n",
       "  np.int64(2),\n",
       "  np.int64(2),\n",
       "  np.int64(0),\n",
       "  np.int64(0),\n",
       "  np.int64(0),\n",
       "  np.int64(2),\n",
       "  np.int64(2),\n",
       "  np.int64(2),\n",
       "  np.int64(1),\n",
       "  np.int64(2),\n",
       "  np.int64(2),\n",
       "  np.int64(0),\n",
       "  np.int64(1),\n",
       "  np.int64(0),\n",
       "  np.int64(2),\n",
       "  np.int64(2),\n",
       "  np.int64(1),\n",
       "  np.int64(1),\n",
       "  np.int64(1),\n",
       "  np.int64(1),\n",
       "  np.int64(0),\n",
       "  np.int64(1),\n",
       "  np.int64(0),\n",
       "  np.int64(2),\n",
       "  np.int64(2),\n",
       "  np.int64(1),\n",
       "  np.int64(0),\n",
       "  np.int64(0),\n",
       "  np.int64(2),\n",
       "  np.int64(2),\n",
       "  np.int64(1),\n",
       "  np.int64(0),\n",
       "  np.int64(1),\n",
       "  np.int64(2),\n",
       "  np.int64(2),\n",
       "  np.int64(0),\n",
       "  np.int64(1),\n",
       "  np.int64(0),\n",
       "  np.int64(2),\n",
       "  np.int64(0),\n",
       "  np.int64(0),\n",
       "  np.int64(1),\n",
       "  np.int64(2),\n",
       "  np.int64(0),\n",
       "  np.int64(1),\n",
       "  np.int64(2),\n",
       "  np.int64(1),\n",
       "  np.int64(1),\n",
       "  np.int64(1),\n",
       "  np.int64(1),\n",
       "  np.int64(0),\n",
       "  np.int64(0),\n",
       "  np.int64(2),\n",
       "  np.int64(0),\n",
       "  np.int64(0),\n",
       "  np.int64(1),\n",
       "  np.int64(0),\n",
       "  np.int64(2),\n",
       "  np.int64(1),\n",
       "  np.int64(0),\n",
       "  np.int64(2),\n",
       "  np.int64(1),\n",
       "  np.int64(0),\n",
       "  np.int64(2),\n",
       "  np.int64(1),\n",
       "  np.int64(2),\n",
       "  np.int64(0),\n",
       "  np.int64(0),\n",
       "  np.int64(2),\n",
       "  np.int64(1),\n",
       "  np.int64(1),\n",
       "  np.int64(2),\n",
       "  np.int64(2),\n",
       "  np.int64(1),\n",
       "  np.int64(2),\n",
       "  np.int64(1),\n",
       "  np.int64(2),\n",
       "  np.int64(0),\n",
       "  np.int64(2),\n",
       "  np.int64(1),\n",
       "  np.int64(2),\n",
       "  np.int64(1),\n",
       "  np.int64(0),\n",
       "  np.int64(2),\n",
       "  np.int64(1),\n",
       "  np.int64(2),\n",
       "  np.int64(1),\n",
       "  np.int64(1),\n",
       "  np.int64(2),\n",
       "  np.int64(0),\n",
       "  np.int64(1),\n",
       "  np.int64(2),\n",
       "  np.int64(0),\n",
       "  np.int64(0),\n",
       "  np.int64(0),\n",
       "  np.int64(0),\n",
       "  np.int64(2),\n",
       "  np.int64(1),\n",
       "  np.int64(0),\n",
       "  np.int64(1),\n",
       "  np.int64(1),\n",
       "  np.int64(1),\n",
       "  np.int64(1),\n",
       "  np.int64(1),\n",
       "  np.int64(2),\n",
       "  np.int64(0),\n",
       "  np.int64(1),\n",
       "  np.int64(1),\n",
       "  np.int64(2),\n",
       "  np.int64(2)])"
      ]
     },
     "execution_count": 17,
     "metadata": {},
     "output_type": "execute_result"
    }
   ],
   "source": [
    "evaluate_model(model0, test_loader, loss_fn, device, class_names=['lensed', 'eccentric', 'unlensed'])"
   ]
  },
  {
   "cell_type": "code",
   "execution_count": null,
   "id": "9452f8a8",
   "metadata": {},
   "outputs": [],
   "source": [
    "plt.plot(train_loss)\n",
    "plt.plot(val_loss)\n",
    "plt.show()"
   ]
  },
  {
   "cell_type": "code",
   "execution_count": 13,
   "id": "501aab5a",
   "metadata": {},
   "outputs": [],
   "source": [
    "# Save the model\n",
    "model_path = 'cnn_model0.pth'\n",
    "torch.save(model0.state_dict(), model_path)\n",
    "# # Load the model\n",
    "# model1 = CNN_Model().to(device)\n",
    "# model1.load_state_dict(torch.load(model_path))"
   ]
  },
  {
   "cell_type": "code",
   "execution_count": 14,
   "id": "b99482b7",
   "metadata": {},
   "outputs": [],
   "source": [
    "from sklearn.metrics import confusion_matrix, roc_curve, auc\n",
    "from sklearn.preprocessing import LabelBinarizer"
   ]
  },
  {
   "cell_type": "code",
   "execution_count": 15,
   "id": "db201339",
   "metadata": {},
   "outputs": [],
   "source": [
    "model0 = CNN_Model().to(device)\n",
    "model_path = 'cnn_mode0.pth'\n",
    "model0.load_state_dict(torch.load(model_path))\n",
    "\n",
    "loss_fn = nn.CrossEntropyLoss()\n",
    "optimizer = torch.optim.Adam(model0.parameters(), lr=LR)\n",
    "scheduler = torch.optim.lr_scheduler.StepLR(optimizer, step_size=5, gamma=GAMMA)"
   ]
  },
  {
   "cell_type": "code",
   "execution_count": 16,
   "id": "e9bb93a1",
   "metadata": {},
   "outputs": [
    {
     "data": {
      "text/plain": [
       "CNN_Model(\n",
       "  (conv1): Conv2d(3, 32, kernel_size=(3, 3), stride=(1, 1), padding=(1, 1))\n",
       "  (conv2): Conv2d(32, 64, kernel_size=(3, 3), stride=(1, 1), padding=(1, 1))\n",
       "  (conv3): Conv2d(64, 128, kernel_size=(3, 3), stride=(1, 1), padding=(1, 1))\n",
       "  (fc1): Linear(in_features=100352, out_features=256, bias=True)\n",
       "  (fc2): Linear(in_features=256, out_features=3, bias=True)\n",
       ")"
      ]
     },
     "execution_count": 16,
     "metadata": {},
     "output_type": "execute_result"
    }
   ],
   "source": [
    "model0"
   ]
  },
  {
   "cell_type": "code",
   "execution_count": 19,
   "id": "a41c2e43",
   "metadata": {},
   "outputs": [
    {
     "name": "stdout",
     "output_type": "stream",
     "text": [
      "Validation Loss: 0.3377, Validation Accuracy: 0.9222\n"
     ]
    },
    {
     "data": {
      "image/png": "[encoded data removed]",
      "text/plain": [
       "<Figure size 800x600 with 2 Axes>"
      ]
     },
     "metadata": {},
     "output_type": "display_data"
    }
   ],
   "source": [
    "all_preds, all_labels = evaluate_model(model0, test_loader, loss_fn, device, class_names=['lensed', 'eccentric', 'unlensed'])"
   ]
  },
  {
   "cell_type": "code",
   "execution_count": 25,
   "id": "32606bac",
   "metadata": {},
   "outputs": [
    {
     "data": {
      "image/png": "[encoded data removed]",
      "text/plain": [
       "<Figure size 800x600 with 1 Axes>"
      ]
     },
     "metadata": {},
     "output_type": "display_data"
    }
   ],
   "source": [
    "# Assuming class_mapping and cm_labels are defined\n",
    "class_mapping = {0: 'Lensed', 1: 'Eccentric', 2: 'Unlensed'}\n",
    "cm_labels = ['Lensed', 'Eccentric', 'Unlensed']\n",
    "\n",
    "# If labels are class names (strings), use reverse mapping\n",
    "reverse_mapping = {v: k for k, v in class_mapping.items()}\n",
    "\n",
    "# Automatically handle both string and numeric input\n",
    "def to_numeric(labels):\n",
    "    if isinstance(labels[0], str):\n",
    "        return np.array([reverse_mapping[label] for label in labels])\n",
    "    return np.array(labels)\n",
    "\n",
    "all_labels_numeric = to_numeric(all_labels)\n",
    "all_preds_numeric = to_numeric(all_preds)\n",
    "\n",
    "# Binarize for one-vs-rest ROC computation\n",
    "binarizer = LabelBinarizer()\n",
    "all_labels_binarized = binarizer.fit_transform(all_labels_numeric)\n",
    "all_preds_binarized = binarizer.transform(all_preds_numeric)\n",
    "\n",
    "# If only two classes, LabelBinarizer returns 1 column; fix that:\n",
    "if all_labels_binarized.shape[1] == 1:\n",
    "    all_labels_binarized = np.hstack((1 - all_labels_binarized, all_labels_binarized))\n",
    "    all_preds_binarized = np.hstack((1 - all_preds_binarized, all_preds_binarized))\n",
    "\n",
    "# Plot ROC\n",
    "plt.figure(figsize=(8, 6))\n",
    "for i, class_name in enumerate(cm_labels):\n",
    "    fpr, tpr, _ = roc_curve(all_labels_binarized[:, i], all_preds_binarized[:, i])\n",
    "    roc_auc = auc(fpr, tpr)\n",
    "    plt.plot(fpr, tpr, label=f'{class_name} (AUC = {roc_auc:.2f})')\n",
    "\n",
    "plt.plot([0, 1], [0, 1], color='red', linestyle='--', label='Random Guess')\n",
    "plt.xlabel('False Positive Rate')\n",
    "plt.ylabel('True Positive Rate')\n",
    "plt.title('Receiver Operating Characteristic (ROC) Curve (Multiclass)')\n",
    "plt.legend(loc='lower right')\n",
    "plt.show()"
   ]
  },
  {
   "cell_type": "code",
   "execution_count": null,
   "id": "b4da6533",
   "metadata": {},
   "outputs": [],
   "source": []
  }
 ],
 "metadata": {
  "kernelspec": {
   "display_name": "nn_1",
   "language": "python",
   "name": "python3"
  },
  "language_info": {
   "codemirror_mode": {
    "name": "ipython",
    "version": 3
   },
   "file_extension": ".py",
   "mimetype": "text/x-python",
   "name": "python",
   "nbconvert_exporter": "python",
   "pygments_lexer": "ipython3",
   "version": "3.11.11"
  }
 },
 "nbformat": 4,
 "nbformat_minor": 5
}
